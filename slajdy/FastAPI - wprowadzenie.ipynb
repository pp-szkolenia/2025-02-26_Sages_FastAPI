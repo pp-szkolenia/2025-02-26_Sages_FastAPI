{
 "cells": [
  {
   "cell_type": "markdown",
   "id": "2cc0b8a1-cd18-4ab0-ba6d-fa8804eb915f",
   "metadata": {
    "slideshow": {
     "slide_type": "notes"
    }
   },
   "source": [
    "jupyter nbconvert --to slides FastAPI\\ -\\ wprowadzenie.ipynb && jupyter nbconvert --to slides FastAPI\\ -\\ wprowadzenie.ipynb --post serve"
   ]
  },
  {
   "cell_type": "markdown",
   "id": "d9482d4f-0bc4-4ad0-93ab-33da7b9cc22c",
   "metadata": {
    "slideshow": {
     "slide_type": "slide"
    }
   },
   "source": [
    "# Python FastAPI\n"
   ]
  },
  {
   "cell_type": "markdown",
   "id": "57d6eb14",
   "metadata": {
    "slideshow": {
     "slide_type": "slide"
    }
   },
   "source": [
    "## Plan szkolenia\n",
    "\n",
    "1. Wprowadzenie\n",
    "2. FastAPI\n",
    "3. Bazy danych\n",
    "4. CRUD\n",
    "5. Pozostałe zagadnienia\n",
    "\n"
   ]
  },
  {
   "cell_type": "markdown",
   "id": "d2a10b68",
   "metadata": {
    "slideshow": {
     "slide_type": "slide"
    },
    "tags": []
   },
   "source": [
    "## Wprowadzenie\n",
    "\n",
    "- Idea aplikacji webowej\n",
    "- Protokół HTTP (klient, serwer, zasób, request, response)\n",
    "- Endpoint, URL, URI\n",
    "- Przykłady API oraz jak się z nimi komunikujemy\n",
    "- Przegląd narzędzi (terminal, Postman, JSON viewer)\n",
    "- Czym jest REST API\n",
    "- Format JSON\n",
    "- Type annotation w Pythonie\n",
    "- Omówienie projektu\n"
   ]
  },
  {
   "cell_type": "markdown",
   "id": "f7bce074",
   "metadata": {
    "slideshow": {
     "slide_type": "slide"
    }
   },
   "source": [
    "# Idea aplikacji webowej\n",
    "\n",
    "Aplikacja webowa to program komputerowy, który:\n",
    "- jest uruchomiony na serwerze\n",
    "- interfejsem jest tzw. klient (np. przeglądarka internetowa)\n",
    "- standardem, który opisuje wymianę informacji jest protokół HTTP\n",
    "- poszczególne działania są wykonywane po wykonaniu przez klienta odpowiedniego requesta HTTP do serwera "
   ]
  },
  {
   "cell_type": "markdown",
   "id": "74a83afb-952b-4de8-a372-f7de557a4c8f",
   "metadata": {
    "slideshow": {
     "slide_type": "slide"
    }
   },
   "source": [
    "# Protokół HTTP\n",
    "\n",
    "**Architektura klient-serwer**\n",
    "\n",
    "![gif](img/http.png)\n"
   ]
  },
  {
   "cell_type": "markdown",
   "id": "afd572f1",
   "metadata": {
    "slideshow": {
     "slide_type": "slide"
    }
   },
   "source": [
    "# Request\n",
    "\n",
    "<div style=\"display: flex;\">\n",
    "    <div style=\"flex: 50%;\">\n",
    "        <img src=\"img/get.png\" alt=\"get-request\" width=\"500\"/>\n",
    "        <img src=\"img/post.png\" alt=\"post-request\" width=\"500\"/>\n",
    "    </div>\n",
    "</div>\n"
   ]
  },
  {
   "cell_type": "markdown",
   "id": "994dc3de",
   "metadata": {
    "slideshow": {
     "slide_type": "slide"
    }
   },
   "source": [
    "# Response\n",
    "\n",
    "<div style=\"display: flex;\">\n",
    "    <div style=\"flex: 50%;\">\n",
    "        <img src=\"img/response.png\" alt=\"get-request\" width=\"500\"/>\n",
    "    </div>\n",
    "</div>\n"
   ]
  },
  {
   "cell_type": "markdown",
   "id": "0056a003",
   "metadata": {
    "slideshow": {
     "slide_type": "slide"
    }
   },
   "source": [
    "# Endpoint, URL, URI\n",
    "\n",
    "\n",
    "![endpoint](img/endpoint.png)"
   ]
  },
  {
   "cell_type": "markdown",
   "id": "7d270d91",
   "metadata": {
    "slideshow": {
     "slide_type": "slide"
    }
   },
   "source": [
    "# Przykłady API – demo"
   ]
  },
  {
   "cell_type": "markdown",
   "id": "06b48c15",
   "metadata": {
    "slideshow": {
     "slide_type": "slide"
    }
   },
   "source": [
    "# Przydatne narzędzia\n",
    "\n",
    "- terminal\n",
    "- Postman (klient HTTP)\n",
    "- JSON viewer"
   ]
  },
  {
   "cell_type": "markdown",
   "id": "6eb4f082",
   "metadata": {
    "slideshow": {
     "slide_type": "slide"
    }
   },
   "source": [
    "# REST API\n",
    "\n",
    "- Do identyfikacji konkretnych zasobów używane są adresy URL + stosujemy różne metody HTTP (jednolity intefejs)\n",
    "- Komunikacja klient-serwer poprzez protokół HTTP z wykorzystaniem JSON\n",
    "- Bezstanowość - API nie przechowuje informacji o swoim stanie po wysłaniu requesta i nie pamięta poprzednich requestów. Wszystkie potrzebne informacje musimy wysłać z requestem\n",
    "- Warstwowa architektura systemu (warstwa prezentacji, aplikacji, danych, transportowa)"
   ]
  },
  {
   "cell_type": "markdown",
   "id": "59f53274",
   "metadata": {
    "slideshow": {
     "slide_type": "slide"
    }
   },
   "source": [
    "- format JSON\n",
    "- type annotation"
   ]
  }
 ],
 "metadata": {
  "celltoolbar": "Slideshow",
  "kernelspec": {
   "display_name": "Python 3 (ipykernel)",
   "language": "python",
   "name": "python3"
  },
  "language_info": {
   "codemirror_mode": {
    "name": "ipython",
    "version": 3
   },
   "file_extension": ".py",
   "mimetype": "text/x-python",
   "name": "python",
   "nbconvert_exporter": "python",
   "pygments_lexer": "ipython3",
   "version": "3.11.5"
  },
  "livereveal": {
   "theme": "league"
  },
  "toc": {
   "base_numbering": 1,
   "nav_menu": {},
   "number_sections": true,
   "sideBar": true,
   "skip_h1_title": true,
   "title_cell": "Table of Contents",
   "title_sidebar": "Contents",
   "toc_cell": false,
   "toc_position": {},
   "toc_section_display": true,
   "toc_window_display": false
  },
  "varInspector": {
   "cols": {
    "lenName": 16,
    "lenType": 16,
    "lenVar": 40
   },
   "kernels_config": {
    "python": {
     "delete_cmd_postfix": "",
     "delete_cmd_prefix": "del ",
     "library": "var_list.py",
     "varRefreshCmd": "print(var_dic_list())"
    },
    "r": {
     "delete_cmd_postfix": ") ",
     "delete_cmd_prefix": "rm(",
     "library": "var_list.r",
     "varRefreshCmd": "cat(var_dic_list()) "
    }
   },
   "types_to_exclude": [
    "module",
    "function",
    "builtin_function_or_method",
    "instance",
    "_Feature"
   ],
   "window_display": false
  }
 },
 "nbformat": 4,
 "nbformat_minor": 5
}
