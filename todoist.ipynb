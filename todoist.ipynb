{
 "cells": [
  {
   "cell_type": "code",
   "execution_count": 6,
   "id": "1b075727-a517-4828-8daf-416f7fe507f1",
   "metadata": {},
   "outputs": [],
   "source": [
    "import requests"
   ]
  },
  {
   "cell_type": "code",
   "execution_count": 7,
   "id": "2ed90398-a4f3-4eda-b95d-090985a0c07c",
   "metadata": {},
   "outputs": [],
   "source": [
    "API_KEY = \"2dccbdca8159636e3646fc10f643935049e3761e\""
   ]
  },
  {
   "cell_type": "markdown",
   "id": "76f31afd-5482-4347-9365-acddcf1c6997",
   "metadata": {},
   "source": [
    "## Projects"
   ]
  },
  {
   "cell_type": "markdown",
   "id": "b644a3b6-2d21-47d3-a98c-4dd02006208a",
   "metadata": {},
   "source": [
    "### GET"
   ]
  },
  {
   "cell_type": "code",
   "execution_count": 8,
   "id": "f972bf37-ac6e-4710-a6a6-049329a4a4b0",
   "metadata": {},
   "outputs": [],
   "source": [
    "url = \"https://api.todoist.com/rest/v2/projects\"\n",
    "headers = {\"Authorization\": f\"Bearer {API_KEY}\"}"
   ]
  },
  {
   "cell_type": "code",
   "execution_count": 24,
   "id": "38ab92a9-c79d-44b3-85ff-238fa55f5069",
   "metadata": {},
   "outputs": [],
   "source": [
    "response = requests.get(url, headers=headers)"
   ]
  },
  {
   "cell_type": "code",
   "execution_count": 25,
   "id": "a9cdd857-1d67-4e9e-ae5f-56af8d95b42a",
   "metadata": {},
   "outputs": [
    {
     "data": {
      "text/plain": [
       "200"
      ]
     },
     "execution_count": 25,
     "metadata": {},
     "output_type": "execute_result"
    }
   ],
   "source": [
    "response.status_code"
   ]
  },
  {
   "cell_type": "code",
   "execution_count": 26,
   "id": "ada7bef0-b2f8-42b3-937c-77a2fbcd0fdd",
   "metadata": {},
   "outputs": [
    {
     "data": {
      "text/plain": [
       "6"
      ]
     },
     "execution_count": 26,
     "metadata": {},
     "output_type": "execute_result"
    }
   ],
   "source": [
    "projects = response.json()\n",
    "len(projects)"
   ]
  },
  {
   "cell_type": "code",
   "execution_count": 35,
   "id": "32a7c8bc-90c9-4282-879a-eb31940e61f9",
   "metadata": {
    "scrolled": true
   },
   "outputs": [
    {
     "data": {
      "text/plain": [
       "[{'id': '2338558878',\n",
       "  'parent_id': None,\n",
       "  'order': 0,\n",
       "  'color': 'charcoal',\n",
       "  'name': 'Inbox',\n",
       "  'comment_count': 0,\n",
       "  'is_shared': False,\n",
       "  'is_favorite': False,\n",
       "  'is_inbox_project': True,\n",
       "  'is_team_inbox': False,\n",
       "  'url': 'https://app.todoist.com/app/project/6W4gQg2jPcrWpfhq',\n",
       "  'view_style': 'list',\n",
       "  'description': ''},\n",
       " {'id': '2339722788',\n",
       "  'parent_id': None,\n",
       "  'order': 3,\n",
       "  'color': 'charcoal',\n",
       "  'name': 'Ogarnąć Jupyter-Lab',\n",
       "  'comment_count': 0,\n",
       "  'is_shared': False,\n",
       "  'is_favorite': False,\n",
       "  'is_inbox_project': False,\n",
       "  'is_team_inbox': False,\n",
       "  'url': 'https://app.todoist.com/app/project/6W8hCGFvp333PmmP',\n",
       "  'view_style': 'list',\n",
       "  'description': ''},\n",
       " {'id': '2341669524',\n",
       "  'parent_id': None,\n",
       "  'order': 5,\n",
       "  'color': 'charcoal',\n",
       "  'name': 'Prezentacja dla klienta (2)',\n",
       "  'comment_count': 0,\n",
       "  'is_shared': False,\n",
       "  'is_favorite': True,\n",
       "  'is_inbox_project': False,\n",
       "  'is_team_inbox': False,\n",
       "  'url': 'https://app.todoist.com/app/project/6WP8wH7w8488qwQg',\n",
       "  'view_style': 'board',\n",
       "  'description': ''},\n",
       " {'id': '2341675270',\n",
       "  'parent_id': None,\n",
       "  'order': 6,\n",
       "  'color': 'red',\n",
       "  'name': 'Shopping List',\n",
       "  'comment_count': 0,\n",
       "  'is_shared': False,\n",
       "  'is_favorite': False,\n",
       "  'is_inbox_project': False,\n",
       "  'is_team_inbox': False,\n",
       "  'url': 'https://app.todoist.com/app/project/6WP9JXF5GjJJwrXF',\n",
       "  'view_style': 'list',\n",
       "  'description': ''},\n",
       " {'id': '2349628620',\n",
       "  'parent_id': None,\n",
       "  'order': 7,\n",
       "  'color': 'charcoal',\n",
       "  'name': 'Nowy projekt',\n",
       "  'comment_count': 0,\n",
       "  'is_shared': False,\n",
       "  'is_favorite': False,\n",
       "  'is_inbox_project': False,\n",
       "  'is_team_inbox': False,\n",
       "  'url': 'https://app.todoist.com/app/project/6XMqGX9f5Gjc4PjF',\n",
       "  'view_style': 'list',\n",
       "  'description': ''},\n",
       " {'id': '2349628625',\n",
       "  'parent_id': None,\n",
       "  'order': 8,\n",
       "  'color': 'charcoal',\n",
       "  'name': 'Nowy projekt',\n",
       "  'comment_count': 0,\n",
       "  'is_shared': False,\n",
       "  'is_favorite': False,\n",
       "  'is_inbox_project': False,\n",
       "  'is_team_inbox': False,\n",
       "  'url': 'https://app.todoist.com/app/project/6XMqGXr2wpQCWmV3',\n",
       "  'view_style': 'list',\n",
       "  'description': ''}]"
      ]
     },
     "execution_count": 35,
     "metadata": {},
     "output_type": "execute_result"
    }
   ],
   "source": [
    "projects"
   ]
  },
  {
   "cell_type": "code",
   "execution_count": 27,
   "id": "7de4afa8-56d6-4c02-bbc7-eaa140719a56",
   "metadata": {},
   "outputs": [
    {
     "data": {
      "text/plain": [
       "[('Inbox', '2338558878'),\n",
       " ('Ogarnąć Jupyter-Lab', '2339722788'),\n",
       " ('Prezentacja dla klienta (2)', '2341669524'),\n",
       " ('Shopping List', '2341675270'),\n",
       " ('Nowy projekt', '2349628620'),\n",
       " ('Nowy projekt', '2349628625')]"
      ]
     },
     "execution_count": 27,
     "metadata": {},
     "output_type": "execute_result"
    }
   ],
   "source": [
    "[(project[\"name\"], project[\"id\"]) for project in projects]"
   ]
  },
  {
   "cell_type": "markdown",
   "id": "a5bf33f1-fe3e-49f5-a5ec-9f093ddd3630",
   "metadata": {},
   "source": [
    "### DELETE"
   ]
  },
  {
   "cell_type": "code",
   "execution_count": 31,
   "id": "a798f7d6-14e4-44e4-acec-7cae0d22b6f3",
   "metadata": {},
   "outputs": [
    {
     "data": {
      "text/plain": [
       "'https://api.todoist.com/rest/v2/projects/2349628625'"
      ]
     },
     "execution_count": 31,
     "metadata": {},
     "output_type": "execute_result"
    }
   ],
   "source": [
    "url + \"/2349628625\""
   ]
  },
  {
   "cell_type": "code",
   "execution_count": 32,
   "id": "6d569834-b6f3-4881-aa90-6e9861dc64b8",
   "metadata": {},
   "outputs": [
    {
     "data": {
      "text/plain": [
       "<Response [204]>"
      ]
     },
     "execution_count": 32,
     "metadata": {},
     "output_type": "execute_result"
    }
   ],
   "source": [
    "response = requests.delete(url + \"/2349628625\", headers=headers)\n",
    "response"
   ]
  },
  {
   "cell_type": "markdown",
   "id": "0cca6f6b-bb52-47fb-af23-ce3de636ab6a",
   "metadata": {},
   "source": [
    "### POST"
   ]
  },
  {
   "cell_type": "code",
   "execution_count": 20,
   "id": "64e53947-8ebe-4697-a5ca-756c51124013",
   "metadata": {},
   "outputs": [],
   "source": [
    "data = {\"name\": \"Nowy projekt\"}"
   ]
  },
  {
   "cell_type": "code",
   "execution_count": 22,
   "id": "b61ac2b4-e0de-46f3-a034-eb4c7d9e5794",
   "metadata": {},
   "outputs": [
    {
     "data": {
      "text/plain": [
       "{'id': '2349628625',\n",
       " 'parent_id': None,\n",
       " 'order': 8,\n",
       " 'color': 'charcoal',\n",
       " 'name': 'Nowy projekt',\n",
       " 'comment_count': 0,\n",
       " 'is_shared': False,\n",
       " 'is_favorite': False,\n",
       " 'is_inbox_project': False,\n",
       " 'is_team_inbox': False,\n",
       " 'url': 'https://app.todoist.com/app/project/6XMqGXr2wpQCWmV3',\n",
       " 'view_style': 'list',\n",
       " 'description': ''}"
      ]
     },
     "execution_count": 22,
     "metadata": {},
     "output_type": "execute_result"
    }
   ],
   "source": [
    "resp = requests.post(url, headers=headers, json=data)\n",
    "resp.json()"
   ]
  },
  {
   "cell_type": "markdown",
   "id": "d9f1e687-0f84-4259-9dab-09acd9f4dc46",
   "metadata": {},
   "source": [
    "# Tasks"
   ]
  },
  {
   "cell_type": "code",
   "execution_count": 48,
   "id": "ac06d649-796c-469f-beed-f87db2b9be14",
   "metadata": {},
   "outputs": [],
   "source": [
    "url = \"https://api.todoist.com/rest/v2/tasks\""
   ]
  },
  {
   "cell_type": "code",
   "execution_count": 49,
   "id": "efea0f12-1d62-44d9-b364-78eed7ccf036",
   "metadata": {},
   "outputs": [
    {
     "data": {
      "text/plain": [
       "[{'id': '8489290105',\n",
       "  'assigner_id': None,\n",
       "  'assignee_id': None,\n",
       "  'project_id': '2339722788',\n",
       "  'section_id': None,\n",
       "  'parent_id': None,\n",
       "  'order': 1,\n",
       "  'content': 'task 1',\n",
       "  'description': '',\n",
       "  'is_completed': False,\n",
       "  'labels': [],\n",
       "  'priority': 1,\n",
       "  'comment_count': 0,\n",
       "  'creator_id': '50418109',\n",
       "  'created_at': '2024-10-14T13:56:35.883229Z',\n",
       "  'due': None,\n",
       "  'url': 'https://app.todoist.com/app/task/8489290105',\n",
       "  'duration': None,\n",
       "  'deadline': None},\n",
       " {'id': '8919986888',\n",
       "  'assigner_id': None,\n",
       "  'assignee_id': None,\n",
       "  'project_id': '2339722788',\n",
       "  'section_id': '170361981',\n",
       "  'parent_id': None,\n",
       "  'order': 1,\n",
       "  'content': '....',\n",
       "  'description': '',\n",
       "  'is_completed': False,\n",
       "  'labels': [],\n",
       "  'priority': 1,\n",
       "  'comment_count': 0,\n",
       "  'creator_id': '50418109',\n",
       "  'created_at': '2025-02-26T14:34:13.717696Z',\n",
       "  'due': None,\n",
       "  'url': 'https://app.todoist.com/app/task/8919986888',\n",
       "  'duration': None,\n",
       "  'deadline': None}]"
      ]
     },
     "execution_count": 49,
     "metadata": {},
     "output_type": "execute_result"
    }
   ],
   "source": [
    "param_dict = {\n",
    "    \"project_id\": \"2339722788\",\n",
    "    \"ids\": \"8489290105,8919986888\"\n",
    "}\n",
    "\n",
    "respnose = requests.get(url, headers=headers, params=param_dict)\n",
    "respnose.json()"
   ]
  },
  {
   "cell_type": "code",
   "execution_count": null,
   "id": "d51a4929-323b-4402-8a09-4882615be475",
   "metadata": {},
   "outputs": [],
   "source": []
  }
 ],
 "metadata": {
  "kernelspec": {
   "display_name": "Python 3 (ipykernel)",
   "language": "python",
   "name": "python3"
  },
  "language_info": {
   "codemirror_mode": {
    "name": "ipython",
    "version": 3
   },
   "file_extension": ".py",
   "mimetype": "text/x-python",
   "name": "python",
   "nbconvert_exporter": "python",
   "pygments_lexer": "ipython3",
   "version": "3.12.7"
  }
 },
 "nbformat": 4,
 "nbformat_minor": 5
}
