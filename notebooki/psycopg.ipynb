{
 "cells": [
  {
   "cell_type": "markdown",
   "id": "81c0e399-a9e3-4c40-b3c5-52ee4ab89812",
   "metadata": {},
   "source": [
    "```\n",
    "Enter - wchodzimy do komórki (do trybu edycji)\n",
    "Escape - wychodzimy z komórki (do trybu poleceń)\n",
    "\n",
    "a - tworzy komórkę powyżej (above)\n",
    "b - tworzy komórkę poniżej (below)\n",
    "x (dd) - usuwa komórkę\n",
    "z - cofa operację\n",
    "\n",
    "Shift + Enter - uruchamia komórkę\n",
    "Ctrl + Enter - uruchamia komórkę\n",
    "Alt + Enter - uruchamia komórkę\n",
    "\n",
    "m - zmiana trybu na markdown\n",
    "y - zmiana trybu na kod\n",
    "```"
   ]
  },
  {
   "cell_type": "code",
   "execution_count": 4,
   "id": "c7abd655-af5c-42cc-b89f-3d45d25ddfa4",
   "metadata": {},
   "outputs": [],
   "source": [
    "from psycopg2.extras import RealDictCursor\n",
    "import psycopg2"
   ]
  },
  {
   "cell_type": "code",
   "execution_count": 5,
   "id": "4c9a095d-4218-4641-a35d-e2af5ce6cb5f",
   "metadata": {},
   "outputs": [],
   "source": [
    "conn = psycopg2.connect(\n",
    "    dbname=\"postgres\", user=\"postgres\", password=\"postgres\", host=\"localhost\",\n",
    "    cursor_factory=RealDictCursor)\n",
    "cursor = conn.cursor()"
   ]
  },
  {
   "cell_type": "code",
   "execution_count": 7,
   "id": "0c0f6143-ebfd-4e2d-b295-4dcd85b3fceb",
   "metadata": {},
   "outputs": [],
   "source": [
    "cursor.execute(\"SELECT * FROM cars\")\n",
    "results = cursor.fetchall()"
   ]
  },
  {
   "cell_type": "code",
   "execution_count": 18,
   "id": "21f1fffc-6263-4eb6-bc8c-2a89e9e6915c",
   "metadata": {},
   "outputs": [
    {
     "name": "stdout",
     "output_type": "stream",
     "text": [
      "32900\n",
      "Škoda\n"
     ]
    }
   ],
   "source": [
    "for column in [\"price\", \"brand\"]:\n",
    "    print(results[0][column])"
   ]
  },
  {
   "cell_type": "code",
   "execution_count": null,
   "id": "677db2cb-4be6-47b5-88f7-32478d929d81",
   "metadata": {},
   "outputs": [],
   "source": []
  },
  {
   "cell_type": "code",
   "execution_count": 20,
   "id": "7375e1fd-6ce9-4c41-a15f-fc27ec9b079a",
   "metadata": {
    "tags": []
   },
   "outputs": [],
   "source": [
    "import psycopg"
   ]
  },
  {
   "cell_type": "code",
   "execution_count": 3,
   "id": "953620ff-4fc4-4d53-a5aa-279403cc33ca",
   "metadata": {
    "tags": []
   },
   "outputs": [],
   "source": [
    "conn = psycopg.connect(\n",
    "    dbname=\"postgres\", user=\"postgres\", password=\"postgres\", host=\"localhost\")\n",
    "cursor = conn.cursor()"
   ]
  },
  {
   "cell_type": "markdown",
   "id": "6f05f7ff-669b-415b-b4cb-51ad2024228a",
   "metadata": {},
   "source": [
    "---"
   ]
  },
  {
   "cell_type": "markdown",
   "id": "ef69bd2c-8e0d-4d8b-b7d3-416730292b64",
   "metadata": {},
   "source": [
    "### CREATE"
   ]
  },
  {
   "cell_type": "code",
   "execution_count": 9,
   "id": "971787db-cda6-4d28-afce-fcc8eb379b74",
   "metadata": {},
   "outputs": [],
   "source": [
    "create_query = \"\"\"CREATE TABLE tasks(\n",
    "    id SERIAL,\n",
    "    description TEXT,\n",
    "    priority SMALLINT,\n",
    "    is_completed BOOLEAN\n",
    ")\n",
    "\"\"\""
   ]
  },
  {
   "cell_type": "code",
   "execution_count": 10,
   "id": "e728caa3-e614-4c38-8f6c-4ef0260d0c93",
   "metadata": {},
   "outputs": [],
   "source": [
    "cursor.execute(create_query)\n",
    "conn.commit()"
   ]
  },
  {
   "cell_type": "code",
   "execution_count": 11,
   "id": "0ba03448-5893-4843-ad5a-b271a8b539aa",
   "metadata": {},
   "outputs": [],
   "source": [
    "create_query = \"\"\"CREATE TABLE users(\n",
    "    id SERIAL,\n",
    "    username VARCHAR(16),\n",
    "    password VARCHAR(36),\n",
    "    is_admin BOOLEAN\n",
    ")\n",
    "\"\"\""
   ]
  },
  {
   "cell_type": "code",
   "execution_count": 12,
   "id": "1d1b20a5-7314-4a94-98b7-2a10037a55c3",
   "metadata": {},
   "outputs": [],
   "source": [
    "cursor.execute(create_query)\n",
    "conn.commit()"
   ]
  },
  {
   "cell_type": "markdown",
   "id": "375669c6-cf53-45d6-8fc9-e16988faa24d",
   "metadata": {},
   "source": [
    "### INSERT"
   ]
  },
  {
   "cell_type": "code",
   "execution_count": 15,
   "id": "572b8fd3-5c3e-4ceb-a7b5-d48de8a1d846",
   "metadata": {},
   "outputs": [],
   "source": [
    "insert_query = \"INSERT INTO tasks(description, priority, is_completed) VALUES('opis zadania', 2, true)\""
   ]
  },
  {
   "cell_type": "code",
   "execution_count": 17,
   "id": "e7148da9-ad24-4baa-9902-89ddaeb09ee7",
   "metadata": {},
   "outputs": [],
   "source": [
    "conn.rollback()"
   ]
  },
  {
   "cell_type": "code",
   "execution_count": 18,
   "id": "434620cb-8b62-402a-86a3-2e63ef3ad232",
   "metadata": {},
   "outputs": [],
   "source": [
    "cursor.execute(insert_query)\n",
    "conn.commit()"
   ]
  },
  {
   "cell_type": "markdown",
   "id": "d48989f8-ae1c-4a00-b6fc-a155b3623cf6",
   "metadata": {},
   "source": [
    "#### Returning (INSERT)"
   ]
  },
  {
   "cell_type": "code",
   "execution_count": 23,
   "id": "10cb8d15-d7a3-43d3-9811-a891e3830524",
   "metadata": {},
   "outputs": [],
   "source": [
    "insert_query = f\"\"\"INSERT INTO tasks (description, priority, is_completed)\n",
    "                   VALUES ('zrobić obiad', 3, false) RETURNING *\"\"\""
   ]
  },
  {
   "cell_type": "code",
   "execution_count": 26,
   "id": "3301f779-86e2-4825-80cc-57a6b3bf3775",
   "metadata": {},
   "outputs": [
    {
     "data": {
      "text/plain": [
       "(2, 'zrobić obiad', 3, False)"
      ]
     },
     "execution_count": 26,
     "metadata": {},
     "output_type": "execute_result"
    }
   ],
   "source": [
    "cursor.execute(insert_query)\n",
    "\n",
    "record = cursor.fetchone()\n",
    "record"
   ]
  },
  {
   "cell_type": "code",
   "execution_count": 28,
   "id": "18405c34-b685-49b2-9951-04abf988172b",
   "metadata": {},
   "outputs": [
    {
     "data": {
      "text/plain": [
       "2"
      ]
     },
     "execution_count": 28,
     "metadata": {},
     "output_type": "execute_result"
    }
   ],
   "source": [
    "record[0]"
   ]
  },
  {
   "cell_type": "code",
   "execution_count": 29,
   "id": "876bc5d5-b0e5-486b-92b3-c5da434a4c2d",
   "metadata": {},
   "outputs": [],
   "source": [
    "conn.commit()"
   ]
  },
  {
   "cell_type": "markdown",
   "id": "4dfe870a-5b60-4dd5-89ba-073b1cf4afc5",
   "metadata": {},
   "source": [
    "### `%s`"
   ]
  },
  {
   "cell_type": "code",
   "execution_count": 30,
   "id": "efe566c9-69d6-482f-a7b6-a3094ae3f570",
   "metadata": {},
   "outputs": [],
   "source": [
    "conn = psycopg.connect(\n",
    "    dbname=\"postgres\", user=\"postgres\", password=\"postgres\", host=\"localhost\",\n",
    "    cursor_factory=psycopg.ClientCursor\n",
    ")\n",
    "cursor = conn.cursor()"
   ]
  },
  {
   "cell_type": "code",
   "execution_count": 31,
   "id": "28a32709-f42c-4e19-802e-c57ae78bfda7",
   "metadata": {},
   "outputs": [
    {
     "data": {
      "text/plain": [
       "(3, 'opis zadania', 3, True)"
      ]
     },
     "execution_count": 31,
     "metadata": {},
     "output_type": "execute_result"
    }
   ],
   "source": [
    "insert_query = \"\"\"INSERT INTO tasks (description, priority, is_completed)\n",
    "                  VALUES (%s, %s, %s)  RETURNING *\"\"\"\n",
    "\n",
    "cursor.execute(insert_query, ('opis zadania', 3, True))\n",
    "record = cursor.fetchone()\n",
    "record"
   ]
  },
  {
   "cell_type": "code",
   "execution_count": 32,
   "id": "3edb8db4-a329-40fc-89f0-526654994c3e",
   "metadata": {},
   "outputs": [
    {
     "data": {
      "text/plain": [
       "\"INSERT INTO tasks (description, priority, is_completed)\\n                  VALUES ('opis zadania', 3, true)  RETURNING *\""
      ]
     },
     "execution_count": 32,
     "metadata": {},
     "output_type": "execute_result"
    }
   ],
   "source": [
    "cursor.mogrify(insert_query, ('opis zadania', 3, True))"
   ]
  },
  {
   "cell_type": "code",
   "execution_count": 33,
   "id": "fe39fd25-4885-4baa-928f-7318e94da0ff",
   "metadata": {},
   "outputs": [],
   "source": [
    "conn.commit()"
   ]
  },
  {
   "cell_type": "markdown",
   "id": "302ffc2a-2ea5-4c45-b950-fbf270692b19",
   "metadata": {},
   "source": [
    "---"
   ]
  },
  {
   "cell_type": "code",
   "execution_count": 36,
   "id": "0c48bb8e-b82c-4dfc-be2a-a406c75a3905",
   "metadata": {},
   "outputs": [
    {
     "data": {
      "text/plain": [
       "'UPDATE tasks SET priority=4 WHERE id = 3; DROP TABLE test;'"
      ]
     },
     "execution_count": 36,
     "metadata": {},
     "output_type": "execute_result"
    }
   ],
   "source": [
    "id_number = \"3; DROP TABLE test;\"\n",
    "\n",
    "query = f\"UPDATE tasks SET priority=4 WHERE id = {id_number}\"\n",
    "query"
   ]
  },
  {
   "cell_type": "code",
   "execution_count": 37,
   "id": "4df69eb2-f0a5-453c-bcfc-14d132779017",
   "metadata": {},
   "outputs": [],
   "source": [
    "cursor.execute(query)\n",
    "conn.commit()"
   ]
  },
  {
   "cell_type": "code",
   "execution_count": 38,
   "id": "387d4f22-4de5-464f-b26d-9228f6c034d7",
   "metadata": {},
   "outputs": [
    {
     "data": {
      "text/plain": [
       "'UPDATE tasks SET priority=4 WHERE id = %s'"
      ]
     },
     "execution_count": 38,
     "metadata": {},
     "output_type": "execute_result"
    }
   ],
   "source": [
    "id_number = \"3; DROP TABLE test;\"\n",
    "\n",
    "query = \"UPDATE tasks SET priority=4 WHERE id = %s\"\n",
    "query"
   ]
  },
  {
   "cell_type": "code",
   "execution_count": 40,
   "id": "aaf847f1-3e8d-4ef7-9786-615464cbd66e",
   "metadata": {},
   "outputs": [
    {
     "data": {
      "text/plain": [
       "\"UPDATE tasks SET priority=4 WHERE id = '3; DROP TABLE test;'\""
      ]
     },
     "execution_count": 40,
     "metadata": {},
     "output_type": "execute_result"
    }
   ],
   "source": [
    "cursor.mogrify(query, (id_number,))"
   ]
  },
  {
   "cell_type": "code",
   "execution_count": 39,
   "id": "f8bfaaae-b70e-4443-ac3e-a6dd33b10f47",
   "metadata": {},
   "outputs": [
    {
     "ename": "InvalidTextRepresentation",
     "evalue": "invalid input syntax for type integer: \"3; DROP TABLE test;\"\nLINE 1: UPDATE tasks SET priority=4 WHERE id = '3; DROP TABLE test;'\n                                               ^",
     "output_type": "error",
     "traceback": [
      "\u001b[0;31m---------------------------------------------------------------------------\u001b[0m",
      "\u001b[0;31mInvalidTextRepresentation\u001b[0m                 Traceback (most recent call last)",
      "Cell \u001b[0;32mIn[39], line 1\u001b[0m\n\u001b[0;32m----> 1\u001b[0m cursor\u001b[38;5;241m.\u001b[39mexecute(query, (id_number,))\n\u001b[1;32m      2\u001b[0m conn\u001b[38;5;241m.\u001b[39mcommit()\n",
      "File \u001b[0;32m~/anaconda3/lib/python3.12/site-packages/psycopg/cursor.py:97\u001b[0m, in \u001b[0;36mCursor.execute\u001b[0;34m(self, query, params, prepare, binary)\u001b[0m\n\u001b[1;32m     93\u001b[0m         \u001b[38;5;28mself\u001b[39m\u001b[38;5;241m.\u001b[39m_conn\u001b[38;5;241m.\u001b[39mwait(\n\u001b[1;32m     94\u001b[0m             \u001b[38;5;28mself\u001b[39m\u001b[38;5;241m.\u001b[39m_execute_gen(query, params, prepare\u001b[38;5;241m=\u001b[39mprepare, binary\u001b[38;5;241m=\u001b[39mbinary)\n\u001b[1;32m     95\u001b[0m         )\n\u001b[1;32m     96\u001b[0m \u001b[38;5;28;01mexcept\u001b[39;00m e\u001b[38;5;241m.\u001b[39m_NO_TRACEBACK \u001b[38;5;28;01mas\u001b[39;00m ex:\n\u001b[0;32m---> 97\u001b[0m     \u001b[38;5;28;01mraise\u001b[39;00m ex\u001b[38;5;241m.\u001b[39mwith_traceback(\u001b[38;5;28;01mNone\u001b[39;00m)\n\u001b[1;32m     98\u001b[0m \u001b[38;5;28;01mreturn\u001b[39;00m \u001b[38;5;28mself\u001b[39m\n",
      "\u001b[0;31mInvalidTextRepresentation\u001b[0m: invalid input syntax for type integer: \"3; DROP TABLE test;\"\nLINE 1: UPDATE tasks SET priority=4 WHERE id = '3; DROP TABLE test;'\n                                               ^"
     ]
    }
   ],
   "source": [
    "cursor.execute(query, (id_number,))\n",
    "conn.commit()"
   ]
  },
  {
   "cell_type": "markdown",
   "id": "9f3909c8-12b4-4292-91cf-6473c2ddb55a",
   "metadata": {},
   "source": [
    "### SELECT"
   ]
  },
  {
   "cell_type": "code",
   "execution_count": 41,
   "id": "c7ddc5dc-6148-4baa-861d-0b13cf8716f9",
   "metadata": {},
   "outputs": [],
   "source": [
    "select_query = \"SELECT * FROM tasks\""
   ]
  },
  {
   "cell_type": "code",
   "execution_count": 44,
   "id": "74636dec-5a4f-4579-9ea6-6c28506a1f64",
   "metadata": {},
   "outputs": [],
   "source": [
    "cursor.execute(select_query)\n",
    "\n",
    "results = cursor.fetchall()"
   ]
  },
  {
   "cell_type": "code",
   "execution_count": 45,
   "id": "ca66ffad-7cda-4597-9c51-822a36cae517",
   "metadata": {},
   "outputs": [
    {
     "data": {
      "text/plain": [
       "[(1, 'opis zadania', 2, True),\n",
       " (2, 'zrobić obiad', 3, False),\n",
       " (3, 'opis zadania', 4, True)]"
      ]
     },
     "execution_count": 45,
     "metadata": {},
     "output_type": "execute_result"
    }
   ],
   "source": [
    "results"
   ]
  },
  {
   "cell_type": "markdown",
   "id": "60a036fa-05f3-4252-a4b9-6f6c9c85170d",
   "metadata": {},
   "source": [
    "### DELETE"
   ]
  },
  {
   "cell_type": "code",
   "execution_count": 46,
   "id": "b438ad3b-92ce-41c7-af7b-027a12447aaa",
   "metadata": {},
   "outputs": [],
   "source": [
    "# delete_query = \"DELETE FROM tasks WHERE id=1\"\n",
    "delete_query = \"DELETE FROM tasks WHERE id=2 RETURNING *\""
   ]
  },
  {
   "cell_type": "code",
   "execution_count": 47,
   "id": "c114d550-5f3b-4934-a173-31f03d4fb388",
   "metadata": {},
   "outputs": [],
   "source": [
    "cursor.execute(delete_query)\n",
    "record = cursor.fetchone()\n",
    "conn.commit()"
   ]
  },
  {
   "cell_type": "code",
   "execution_count": 48,
   "id": "c5465050-d16e-4b08-ac99-9bd904d4556c",
   "metadata": {},
   "outputs": [
    {
     "data": {
      "text/plain": [
       "(2, 'zrobić obiad', 3, False)"
      ]
     },
     "execution_count": 48,
     "metadata": {},
     "output_type": "execute_result"
    }
   ],
   "source": [
    "record"
   ]
  }
 ],
 "metadata": {
  "kernelspec": {
   "display_name": "Python 3 (ipykernel)",
   "language": "python",
   "name": "python3"
  },
  "language_info": {
   "codemirror_mode": {
    "name": "ipython",
    "version": 3
   },
   "file_extension": ".py",
   "mimetype": "text/x-python",
   "name": "python",
   "nbconvert_exporter": "python",
   "pygments_lexer": "ipython3",
   "version": "3.12.7"
  }
 },
 "nbformat": 4,
 "nbformat_minor": 5
}
