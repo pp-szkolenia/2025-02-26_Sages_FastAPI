{
 "cells": [
  {
   "cell_type": "code",
   "execution_count": 1,
   "id": "7375e1fd-6ce9-4c41-a15f-fc27ec9b079a",
   "metadata": {
    "tags": []
   },
   "outputs": [],
   "source": [
    "import psycopg"
   ]
  },
  {
   "cell_type": "code",
   "execution_count": null,
   "id": "953620ff-4fc4-4d53-a5aa-279403cc33ca",
   "metadata": {
    "tags": []
   },
   "outputs": [],
   "source": [
    "conn = psycopg.connect(dbname=\"postgres\", user=\"postgres\", password=\"postgres\", host=\"localhost\")\n",
    "cursor = conn.cursor()"
   ]
  },
  {
   "cell_type": "markdown",
   "id": "6f05f7ff-669b-415b-b4cb-51ad2024228a",
   "metadata": {},
   "source": [
    "---"
   ]
  },
  {
   "cell_type": "markdown",
   "id": "ef69bd2c-8e0d-4d8b-b7d3-416730292b64",
   "metadata": {},
   "source": [
    "### CREATE"
   ]
  },
  {
   "cell_type": "code",
   "execution_count": null,
   "id": "971787db-cda6-4d28-afce-fcc8eb379b74",
   "metadata": {},
   "outputs": [],
   "source": [
    "create_query = \"\"\"CREATE TABLE tasks(\n",
    "    id SERIAL,\n",
    "    description TEXT,\n",
    "    priority SMALLINT,\n",
    "    is_complete BOOLEAN\n",
    ")\n",
    "\"\"\""
   ]
  },
  {
   "cell_type": "code",
   "execution_count": null,
   "id": "e728caa3-e614-4c38-8f6c-4ef0260d0c93",
   "metadata": {},
   "outputs": [],
   "source": [
    "cursor.execute(create_query)\n",
    "conn.commit()"
   ]
  },
  {
   "cell_type": "code",
   "execution_count": null,
   "id": "0ba03448-5893-4843-ad5a-b271a8b539aa",
   "metadata": {},
   "outputs": [],
   "source": [
    "create_query = \"\"\"CREATE TABLE users(\n",
    "    id SERIAL,\n",
    "    username VARCHAR(16),\n",
    "    password VARCHAR(36),\n",
    "    is_admin BOOLEAN\n",
    ")\n",
    "\"\"\""
   ]
  },
  {
   "cell_type": "code",
   "execution_count": null,
   "id": "1d1b20a5-7314-4a94-98b7-2a10037a55c3",
   "metadata": {},
   "outputs": [],
   "source": [
    "cursor.execute(create_query)\n",
    "conn.commit()"
   ]
  },
  {
   "cell_type": "markdown",
   "id": "375669c6-cf53-45d6-8fc9-e16988faa24d",
   "metadata": {},
   "source": [
    "### INSERT"
   ]
  },
  {
   "cell_type": "code",
   "execution_count": null,
   "id": "572b8fd3-5c3e-4ceb-a7b5-d48de8a1d846",
   "metadata": {},
   "outputs": [],
   "source": [
    "insert_query = \"INSERT INTO tasks(description, priority, is_complete) VALUES('opis zadania', 2, true)\""
   ]
  },
  {
   "cell_type": "code",
   "execution_count": null,
   "id": "434620cb-8b62-402a-86a3-2e63ef3ad232",
   "metadata": {},
   "outputs": [],
   "source": [
    "cursor.execute(insert_query)\n",
    "conn.commit()"
   ]
  },
  {
   "cell_type": "markdown",
   "id": "d48989f8-ae1c-4a00-b6fc-a155b3623cf6",
   "metadata": {},
   "source": [
    "#### Returning (INSERT)"
   ]
  },
  {
   "cell_type": "code",
   "execution_count": null,
   "id": "10cb8d15-d7a3-43d3-9811-a891e3830524",
   "metadata": {},
   "outputs": [],
   "source": [
    "insert_query = f\"\"\"INSERT INTO tasks (description, priority, is_complete)\n",
    "                   VALUES ('zrobić obiad', 3, false)  RETURNING *\"\"\""
   ]
  },
  {
   "cell_type": "code",
   "execution_count": null,
   "id": "3301f779-86e2-4825-80cc-57a6b3bf3775",
   "metadata": {},
   "outputs": [],
   "source": [
    "cursor.execute(insert_query)\n",
    "record = cursor.fetchone()\n",
    "record"
   ]
  },
  {
   "cell_type": "code",
   "execution_count": null,
   "id": "876bc5d5-b0e5-486b-92b3-c5da434a4c2d",
   "metadata": {},
   "outputs": [],
   "source": [
    "conn.commit()"
   ]
  },
  {
   "cell_type": "markdown",
   "id": "4dfe870a-5b60-4dd5-89ba-073b1cf4afc5",
   "metadata": {},
   "source": [
    "### `%s`"
   ]
  },
  {
   "cell_type": "code",
   "execution_count": null,
   "id": "efe566c9-69d6-482f-a7b6-a3094ae3f570",
   "metadata": {},
   "outputs": [],
   "source": [
    "conn = psycopg.connect(\n",
    "    dbname=\"postgres\", user=\"postgres\", password=\"postgres\", host=\"localhost\",\n",
    "    cursor_factory=psycopg.ClientCursor\n",
    ")\n",
    "cursor = conn.cursor()"
   ]
  },
  {
   "cell_type": "code",
   "execution_count": null,
   "id": "28a32709-f42c-4e19-802e-c57ae78bfda7",
   "metadata": {},
   "outputs": [],
   "source": [
    "insert_query = f\"\"\"INSERT INTO tasks (description, priority, is_complete)\n",
    "                   VALUES (%s, %s, %s)  RETURNING *\"\"\"\n",
    "\n",
    "cursor.execute(insert_query, ('opis zadania', 3, True))\n",
    "record = cursor.fetchone()\n",
    "record"
   ]
  },
  {
   "cell_type": "code",
   "execution_count": null,
   "id": "3edb8db4-a329-40fc-89f0-526654994c3e",
   "metadata": {},
   "outputs": [],
   "source": [
    "cursor.mogrify(insert_query, ('opis zadania', 3, True))"
   ]
  },
  {
   "cell_type": "code",
   "execution_count": null,
   "id": "fe39fd25-4885-4baa-928f-7318e94da0ff",
   "metadata": {},
   "outputs": [],
   "source": [
    "conn.commit()"
   ]
  },
  {
   "cell_type": "markdown",
   "id": "9f3909c8-12b4-4292-91cf-6473c2ddb55a",
   "metadata": {},
   "source": [
    "### SELECT"
   ]
  },
  {
   "cell_type": "code",
   "execution_count": null,
   "id": "c7ddc5dc-6148-4baa-861d-0b13cf8716f9",
   "metadata": {},
   "outputs": [],
   "source": [
    "select_query = \"SELECT * FROM tasks\""
   ]
  },
  {
   "cell_type": "code",
   "execution_count": null,
   "id": "74636dec-5a4f-4579-9ea6-6c28506a1f64",
   "metadata": {},
   "outputs": [],
   "source": [
    "cursor.execute(select_query)\n",
    "results = cursor.fetchall()"
   ]
  },
  {
   "cell_type": "code",
   "execution_count": null,
   "id": "ca66ffad-7cda-4597-9c51-822a36cae517",
   "metadata": {},
   "outputs": [],
   "source": [
    "results"
   ]
  },
  {
   "cell_type": "markdown",
   "id": "60a036fa-05f3-4252-a4b9-6f6c9c85170d",
   "metadata": {},
   "source": [
    "### DELETE"
   ]
  },
  {
   "cell_type": "code",
   "execution_count": null,
   "id": "b438ad3b-92ce-41c7-af7b-027a12447aaa",
   "metadata": {},
   "outputs": [],
   "source": [
    "# delete_query = \"DELETE FROM tasks WHERE id=1\"\n",
    "delete_query = \"DELETE FROM tasks WHERE id=2 RETURNING *\""
   ]
  },
  {
   "cell_type": "code",
   "execution_count": null,
   "id": "c114d550-5f3b-4934-a173-31f03d4fb388",
   "metadata": {},
   "outputs": [],
   "source": [
    "cursor.execute(delete_query)\n",
    "record = cursor.fetchone()\n",
    "conn.commit()"
   ]
  },
  {
   "cell_type": "code",
   "execution_count": null,
   "id": "c5465050-d16e-4b08-ac99-9bd904d4556c",
   "metadata": {},
   "outputs": [],
   "source": [
    "record"
   ]
  }
 ],
 "metadata": {
  "kernelspec": {
   "display_name": "Python 3 (ipykernel)",
   "language": "python",
   "name": "python3"
  },
  "language_info": {
   "codemirror_mode": {
    "name": "ipython",
    "version": 3
   },
   "file_extension": ".py",
   "mimetype": "text/x-python",
   "name": "python",
   "nbconvert_exporter": "python",
   "pygments_lexer": "ipython3",
   "version": "3.12.7"
  }
 },
 "nbformat": 4,
 "nbformat_minor": 5
}
